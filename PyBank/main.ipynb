{
 "cells": [
  {
   "cell_type": "code",
   "execution_count": 32,
   "id": "ab25f33f-2cb4-4ab8-b81c-23d166ecc729",
   "metadata": {},
   "outputs": [
    {
     "name": "stdout",
     "output_type": "stream",
     "text": [
      "Financial Analysis\n",
      "----------------------------\n",
      "Total Months: 86\n",
      "Total: 38382578\n",
      "Average Change: $-2315.12\n",
      "Greatest Increase in Profits: Feb-2012 ($1926159)\n",
      "Greatest Decrease in Profits: Sep-2013 ($-2196167)\n"
     ]
    }
   ],
   "source": [
    "# Import dependences. Use python for this assignment over pandas\n",
    "import csv\n",
    "import os\n",
    "\n",
    "# Path to the csv file\n",
    "budget_data = os.path.join(\"..\",\"PyBank\",\"budget_data.csv\")\n",
    "\n",
    "# Initialize the metric variables\n",
    "months = []\n",
    "profit_changes = []\n",
    "\n",
    "count = 0\n",
    "net_profit = 0\n",
    "last_month_profit_loss = 0\n",
    "this_month_profit_loss = 0\n",
    "profit_change = 0\n",
    "\n",
    "# Open and read the csv file\n",
    "with open (budget_data, newline=\"\") as csv_file:\n",
    "    csv_reader = csv.reader(csv_file, delimiter =',')\n",
    "    cvs_header = next(csv_file)\n",
    "    for row in csv_reader:\n",
    "        # Month count\n",
    "        count += 1\n",
    "         # Calculate net total profit loss\n",
    "        this_month_profit_loss = int(row[1])\n",
    "        net_profit += this_month_profit_loss\n",
    "        \n",
    "        if count == 1:\n",
    "            # Last month profits is equal to this most recent month profit\n",
    "            last_month_profit_loss = this_month_profit_loss\n",
    "            continue \n",
    "        else:\n",
    "            # Cacluate change in profit\n",
    "            profit_change = this_month_profit_loss - last_month_profit_loss\n",
    "             # Add each month to months list\n",
    "            months.append(row[0])\n",
    "            # Add profit change to the profit change list\n",
    "            profit_changes.append(profit_change)\n",
    "            # Set this this_month_profits to last_months_profit\n",
    "            last_month_profit_loss = this_month_profit_loss\n",
    "        \n",
    "    # Calculate the sum and average of the changes in profit/losses over the enitre period\n",
    "    sum_profit = sum(profit_changes)\n",
    "    average_profit = round(sum_profit/(count - 1), 2)\n",
    "    # Caclulate the greatest increase in profits over the entire period\n",
    "    greatest_increase_profit_losses = max(profit_changes)\n",
    "    greatest_decrease_profit_losses = min(profit_changes)\n",
    "    # Find the index of the greast incerease/decreat in profit losses over the enire period\n",
    "    greatest_increase_month_index = profit_changes.index(greatest_increase_profit_losses)\n",
    "    greatest_decrease_month_index = profit_changes.index(greatest_decrease_profit_losses)\n",
    "    # Assign the greatest increase and decrease month\n",
    "    greatest_increase_month = months[greatest_increase_month_index]\n",
    "    greatest_decrease_month = months[greatest_decrease_month_index]\n",
    "    \n",
    "# Print financial analysis\n",
    "print('Financial Analysis')\n",
    "print('----------------------------')\n",
    "print(f\"Total Months: {count}\")\n",
    "print(f\"Total: {net_profit}\")\n",
    "print(f\"Average Change: ${average_profit}\")\n",
    "print(f\"Greatest Increase in Profits: {greatest_increase_month} (${greatest_increase_profit_losses})\")\n",
    "print(F\"Greatest Decrease in Profits: {greatest_decrease_month} (${greatest_decrease_profit_losses})\")\n",
    "\n",
    "# Export text file with the results\n",
    "with open ('budget_analysis.txt', 'w') as f:\n",
    "    f.write('Financial Analysis\\n')\n",
    "    f.write('----------------------------\\n')\n",
    "    f.write(f\"Total Months: {count}\\n\")\n",
    "    f.write(f\"Total: {net_profit}\\n\")\n",
    "    f.write(f\"Average Change: ${average_profit}\\n\")\n",
    "    f.write(f\"Greatest Increase in Profits: {greatest_increase_month} (${greatest_increase_profit_losses})\\n\")\n",
    "    f.write(F\"Greatest Decrease in Profits: {greatest_decrease_month} (${greatest_decrease_profit_losses})\\n\")"
   ]
  },
  {
   "cell_type": "code",
   "execution_count": null,
   "id": "5d0e417c-adb8-43cb-bcb9-8597cf7641f0",
   "metadata": {},
   "outputs": [],
   "source": [
    "\n"
   ]
  },
  {
   "cell_type": "code",
   "execution_count": null,
   "id": "c423f379-3a5b-4df4-b238-59d7d69168e4",
   "metadata": {},
   "outputs": [],
   "source": []
  },
  {
   "cell_type": "code",
   "execution_count": null,
   "id": "0b83878e-e57f-49b1-ac62-ab6f3ed22cff",
   "metadata": {},
   "outputs": [],
   "source": []
  }
 ],
 "metadata": {
  "kernelspec": {
   "display_name": "Python 3",
   "language": "python",
   "name": "python3"
  },
  "language_info": {
   "codemirror_mode": {
    "name": "ipython",
    "version": 3
   },
   "file_extension": ".py",
   "mimetype": "text/x-python",
   "name": "python",
   "nbconvert_exporter": "python",
   "pygments_lexer": "ipython3",
   "version": "3.8.8"
  }
 },
 "nbformat": 4,
 "nbformat_minor": 5
}
